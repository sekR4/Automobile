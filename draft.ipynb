{
 "cells": [
  {
   "cell_type": "code",
   "execution_count": 1,
   "id": "07af6d48",
   "metadata": {},
   "outputs": [],
   "source": [
    "import pandas as pd\n",
    "import numpy as np\n",
    "from sklearn.linear_model import LinearRegression\n",
    "from sklearn.metrics import mean_squared_error\n",
    "from sklearn.model_selection import train_test_split\n",
    "from utils import columns, clean_df, numerics, summary\n",
    "from pycaret.regression import *\n",
    "\n",
    "%config Completer.use_jedi = False\n",
    "seed = 1"
   ]
  },
  {
   "cell_type": "markdown",
   "id": "d0999252",
   "metadata": {},
   "source": [
    "# Agenda\n",
    "1. Problem\n",
    "2. EDA\n",
    "3. Solution\n",
    "    - Base Model (multivariate linear regression)\n",
    "    - Advanced Framework\n",
    "    - Production Scenario\n",
    "4. Conclusion"
   ]
  },
  {
   "cell_type": "markdown",
   "id": "73b66546",
   "metadata": {},
   "source": [
    "# 1. Problem\n",
    "- Simple regression model\n",
    "- Target: **normalized losses** ~ \"*relative average loss payment per insured vehicle year.*\" ([UCI](https://archive.ics.uci.edu/ml/datasets/Automobile))\n",
    "- Evaluate with MSE"
   ]
  },
  {
   "cell_type": "markdown",
   "id": "449de230",
   "metadata": {},
   "source": [
    "# 2. EDA\n",
    "\n",
    "This looks nice: https://medium.com/analytics-vidhya/implementing-linear-regression-using-sklearn-76264a3c073c"
   ]
  },
  {
   "cell_type": "code",
   "execution_count": 2,
   "id": "5a2e98ca",
   "metadata": {},
   "outputs": [
    {
     "name": "stdout",
     "output_type": "stream",
     "text": [
      "164 rows (80.0%) left after preprocessing\n"
     ]
    },
    {
     "data": {
      "text/html": [
       "<div>\n",
       "<style scoped>\n",
       "    .dataframe tbody tr th:only-of-type {\n",
       "        vertical-align: middle;\n",
       "    }\n",
       "\n",
       "    .dataframe tbody tr th {\n",
       "        vertical-align: top;\n",
       "    }\n",
       "\n",
       "    .dataframe thead th {\n",
       "        text-align: right;\n",
       "    }\n",
       "</style>\n",
       "<table border=\"1\" class=\"dataframe\">\n",
       "  <thead>\n",
       "    <tr style=\"text-align: right;\">\n",
       "      <th></th>\n",
       "      <th>normalized-losses</th>\n",
       "      <th>make</th>\n",
       "      <th>fuel-type</th>\n",
       "      <th>aspiration</th>\n",
       "      <th>num-of-doors</th>\n",
       "      <th>body-style</th>\n",
       "      <th>drive-wheels</th>\n",
       "      <th>engine-location</th>\n",
       "      <th>wheel-base</th>\n",
       "      <th>length</th>\n",
       "      <th>width</th>\n",
       "      <th>height</th>\n",
       "      <th>curb-weight</th>\n",
       "      <th>engine-type</th>\n",
       "      <th>num-of-cylinders</th>\n",
       "      <th>engine-size</th>\n",
       "      <th>fuel-system</th>\n",
       "      <th>bore</th>\n",
       "      <th>stroke</th>\n",
       "      <th>compression-ratio</th>\n",
       "      <th>horsepower</th>\n",
       "      <th>peak-rpm</th>\n",
       "      <th>city-mpg</th>\n",
       "      <th>highway-mpg</th>\n",
       "      <th>price</th>\n",
       "    </tr>\n",
       "  </thead>\n",
       "  <tbody>\n",
       "    <tr>\n",
       "      <th>3</th>\n",
       "      <td>164.0</td>\n",
       "      <td>audi</td>\n",
       "      <td>gas</td>\n",
       "      <td>std</td>\n",
       "      <td>four</td>\n",
       "      <td>sedan</td>\n",
       "      <td>fwd</td>\n",
       "      <td>front</td>\n",
       "      <td>99.8</td>\n",
       "      <td>176.6</td>\n",
       "      <td>66.2</td>\n",
       "      <td>54.3</td>\n",
       "      <td>2337</td>\n",
       "      <td>ohc</td>\n",
       "      <td>four</td>\n",
       "      <td>109</td>\n",
       "      <td>mpfi</td>\n",
       "      <td>3.19</td>\n",
       "      <td>3.4</td>\n",
       "      <td>10.0</td>\n",
       "      <td>102.0</td>\n",
       "      <td>5500.0</td>\n",
       "      <td>24</td>\n",
       "      <td>30</td>\n",
       "      <td>13950.0</td>\n",
       "    </tr>\n",
       "    <tr>\n",
       "      <th>4</th>\n",
       "      <td>164.0</td>\n",
       "      <td>audi</td>\n",
       "      <td>gas</td>\n",
       "      <td>std</td>\n",
       "      <td>four</td>\n",
       "      <td>sedan</td>\n",
       "      <td>4wd</td>\n",
       "      <td>front</td>\n",
       "      <td>99.4</td>\n",
       "      <td>176.6</td>\n",
       "      <td>66.4</td>\n",
       "      <td>54.3</td>\n",
       "      <td>2824</td>\n",
       "      <td>ohc</td>\n",
       "      <td>five</td>\n",
       "      <td>136</td>\n",
       "      <td>mpfi</td>\n",
       "      <td>3.19</td>\n",
       "      <td>3.4</td>\n",
       "      <td>8.0</td>\n",
       "      <td>115.0</td>\n",
       "      <td>5500.0</td>\n",
       "      <td>18</td>\n",
       "      <td>22</td>\n",
       "      <td>17450.0</td>\n",
       "    </tr>\n",
       "    <tr>\n",
       "      <th>6</th>\n",
       "      <td>158.0</td>\n",
       "      <td>audi</td>\n",
       "      <td>gas</td>\n",
       "      <td>std</td>\n",
       "      <td>four</td>\n",
       "      <td>sedan</td>\n",
       "      <td>fwd</td>\n",
       "      <td>front</td>\n",
       "      <td>105.8</td>\n",
       "      <td>192.7</td>\n",
       "      <td>71.4</td>\n",
       "      <td>55.7</td>\n",
       "      <td>2844</td>\n",
       "      <td>ohc</td>\n",
       "      <td>five</td>\n",
       "      <td>136</td>\n",
       "      <td>mpfi</td>\n",
       "      <td>3.19</td>\n",
       "      <td>3.4</td>\n",
       "      <td>8.5</td>\n",
       "      <td>110.0</td>\n",
       "      <td>5500.0</td>\n",
       "      <td>19</td>\n",
       "      <td>25</td>\n",
       "      <td>17710.0</td>\n",
       "    </tr>\n",
       "  </tbody>\n",
       "</table>\n",
       "</div>"
      ],
      "text/plain": [
       "   normalized-losses  make fuel-type aspiration num-of-doors body-style  \\\n",
       "3              164.0  audi       gas        std         four      sedan   \n",
       "4              164.0  audi       gas        std         four      sedan   \n",
       "6              158.0  audi       gas        std         four      sedan   \n",
       "\n",
       "  drive-wheels engine-location  wheel-base  length  width  height  \\\n",
       "3          fwd           front        99.8   176.6   66.2    54.3   \n",
       "4          4wd           front        99.4   176.6   66.4    54.3   \n",
       "6          fwd           front       105.8   192.7   71.4    55.7   \n",
       "\n",
       "   curb-weight engine-type num-of-cylinders  engine-size fuel-system  bore  \\\n",
       "3         2337         ohc             four          109        mpfi  3.19   \n",
       "4         2824         ohc             five          136        mpfi  3.19   \n",
       "6         2844         ohc             five          136        mpfi  3.19   \n",
       "\n",
       "   stroke  compression-ratio  horsepower  peak-rpm  city-mpg  highway-mpg  \\\n",
       "3     3.4               10.0       102.0    5500.0        24           30   \n",
       "4     3.4                8.0       115.0    5500.0        18           22   \n",
       "6     3.4                8.5       110.0    5500.0        19           25   \n",
       "\n",
       "     price  \n",
       "3  13950.0  \n",
       "4  17450.0  \n",
       "6  17710.0  "
      ]
     },
     "execution_count": 2,
     "metadata": {},
     "output_type": "execute_result"
    }
   ],
   "source": [
    "df = pd.read_csv(\"data/imports-85.data\", header=None, names=columns)\n",
    "df = clean_df(df)\n",
    "df.head(3)"
   ]
  },
  {
   "cell_type": "code",
   "execution_count": 3,
   "id": "b838ea76",
   "metadata": {},
   "outputs": [],
   "source": [
    "# histogram target + log(target)\n",
    "#pd.Series(np.log(y)).plot.hist()\n",
    "#y.plot.hist()\n",
    "\n",
    "\n",
    "\n",
    "\n",
    "\n",
    "# fancy stuff to display relations\n",
    "\n",
    "\n",
    "\n"
   ]
  },
  {
   "cell_type": "markdown",
   "id": "63593578",
   "metadata": {},
   "source": [
    "# 3. Solution\n",
    "## 3.1 Base Model (multivariate linear regression)\n",
    "In our simple approach we'll consider continuous variables only."
   ]
  },
  {
   "cell_type": "code",
   "execution_count": 4,
   "id": "6710671b",
   "metadata": {},
   "outputs": [
    {
     "name": "stdout",
     "output_type": "stream",
     "text": [
      "Call:\n",
      "lm(formula = normalized-losses ~ wheel-base + length + width + height + curb-weight + engine-size + bore + stroke + compression-ratio + horsepower + peak-rpm + city-mpg + highway-mpg + price) \n",
      "\n",
      "                       Coefficients  Std. Error  t value  Pr(>|t|)\n",
      "0         (Intercept)        8.4932       1.600    5.310     0.000\n",
      "1          wheel-base       -0.0036       0.010   -0.365     0.715\n",
      "2              length        0.0031       0.005    0.618     0.538\n",
      "3               width       -0.0146       0.025   -0.582     0.562\n",
      "4              height       -0.0584       0.013   -4.441     0.000\n",
      "5         curb-weight        0.0002       0.000    0.951     0.343\n",
      "6         engine-size        0.0019       0.002    1.064     0.289\n",
      "7                bore       -0.2206       0.116   -1.904     0.059\n",
      "8              stroke       -0.1412       0.085   -1.653     0.101\n",
      "9   compression-ratio        0.0063       0.008    0.791     0.430\n",
      "10         horsepower       -0.0012       0.002   -0.687     0.493\n",
      "11           peak-rpm        0.0001       0.000    2.358     0.020\n",
      "12           city-mpg       -0.0412       0.016   -2.597     0.010\n",
      "13        highway-mpg        0.0345       0.015    2.378     0.019\n",
      "14              price        0.0000       0.000    0.763     0.447 \n",
      "\n",
      "R squared:  0.3717 \n",
      "\n"
     ]
    }
   ],
   "source": [
    "# TODO: Check for linearity etc (use scripts from previous notebook)\n",
    "\n",
    "cols = list(df.columns)\n",
    "target, num_features = cols[0], [c for c in cols[1:] if c in numerics]\n",
    "\n",
    "X,y = df[num_features], np.log(df[target]) \n",
    "\n",
    "#X,y = pd.get_dummies(df[cols[1:]]),np.log(df[target])\n",
    "\n",
    "X_train, X_test, y_train, y_test = train_test_split(X, y, test_size=0.1, random_state=seed)\n",
    "\n",
    "model = LinearRegression().fit(X_train, y_train)\n",
    "summary(model, X_train, y_train)"
   ]
  },
  {
   "cell_type": "code",
   "execution_count": 5,
   "id": "2267c739",
   "metadata": {},
   "outputs": [
    {
     "name": "stdout",
     "output_type": "stream",
     "text": [
      "1.0234624573711244 1.1644948359274552\n"
     ]
    }
   ],
   "source": [
    "MSE = mean_squared_error(y_test, model.predict(X_test))\n",
    "RMSE = mean_squared_error(y_test, model.predict(X_test), squared=False)\n",
    "\n",
    "print(np.exp(MSE),np.exp(RMSE)) # reversing log via exp for interpretability of MSE"
   ]
  },
  {
   "cell_type": "markdown",
   "id": "115184ff",
   "metadata": {},
   "source": [
    "Doesn't look too bad considering a terrible R squared of 0.37."
   ]
  },
  {
   "cell_type": "markdown",
   "id": "91651ff6",
   "metadata": {},
   "source": [
    "## 3.2 Advanced Framework\n",
    "- https://github.com/pycaret/pycaret/blob/master/tutorials/Regression%20Tutorial%20Level%20Beginner%20-%20REG101.ipynb\n",
    "- https://github.com/pycaret/pycaret/blob/master/tutorials/Regression%20Tutorial%20Level%20Intermediate%20-%20REG102.ipynb"
   ]
  },
  {
   "cell_type": "code",
   "execution_count": 7,
   "id": "3d1aad4a",
   "metadata": {},
   "outputs": [
    {
     "name": "stdout",
     "output_type": "stream",
     "text": [
      "Data for Modeling: (148, 25)\n",
      "Unseen Data For Predictions: (16, 25)\n"
     ]
    }
   ],
   "source": [
    "data = df.sample(frac=0.9, random_state=seed)\n",
    "data_unseen = df.drop(data.index)\n",
    "\n",
    "data.reset_index(drop=True, inplace=True)\n",
    "data_unseen.reset_index(drop=True, inplace=True)\n",
    "\n",
    "print('Data for Modeling: ' + str(data.shape))\n",
    "print('Unseen Data For Predictions: ' + str(data_unseen.shape))"
   ]
  },
  {
   "cell_type": "code",
   "execution_count": 24,
   "id": "b501f737",
   "metadata": {},
   "outputs": [],
   "source": [
    "params = {\n",
    "    \"data\": data,\n",
    "    \"target\": \"normalized-losses\",\n",
    "    \"train_size\": 0.9,\n",
    "    \"test_data\": data_unseen,\n",
    "    \"categorical_features\": [c for c in cols[1:] if c not in numerics],\n",
    "    \"remove_multicollinearity\": True,\n",
    "    \"verbose\":False,\n",
    "    \"silent\": True\n",
    "}\n",
    "\n",
    "regr = setup(**params)"
   ]
  },
  {
   "cell_type": "code",
   "execution_count": 25,
   "id": "995973ee",
   "metadata": {
    "scrolled": false
   },
   "outputs": [],
   "source": [
    "#help(setup)"
   ]
  },
  {
   "cell_type": "markdown",
   "id": "3d3e0973",
   "metadata": {},
   "source": [
    "## 3.3 Production Scenario"
   ]
  },
  {
   "cell_type": "markdown",
   "id": "e4171f95",
   "metadata": {},
   "source": [
    "# Conclusion"
   ]
  },
  {
   "cell_type": "markdown",
   "id": "4ec1d4ec",
   "metadata": {},
   "source": [
    "### Sources\n",
    "- https://scikit-learn.org/stable/auto_examples/model_selection/plot_cv_predict.html#sphx-glr-auto-examples-model-selection-plot-cv-predict-py\n",
    "- https://boostedml.com/2019/06/linear-regression-in-r-interpreting-summarylm.html\n",
    "- https://stackoverflow.com/questions/27928275/find-p-value-significance-in-scikit-learn-linearregression\n",
    "- "
   ]
  }
 ],
 "metadata": {
  "kernelspec": {
   "display_name": "Python 3",
   "language": "python",
   "name": "python3"
  },
  "language_info": {
   "codemirror_mode": {
    "name": "ipython",
    "version": 3
   },
   "file_extension": ".py",
   "mimetype": "text/x-python",
   "name": "python",
   "nbconvert_exporter": "python",
   "pygments_lexer": "ipython3",
   "version": "3.7.10"
  }
 },
 "nbformat": 4,
 "nbformat_minor": 5
}
