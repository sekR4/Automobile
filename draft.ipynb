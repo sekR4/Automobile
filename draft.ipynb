{
 "cells": [
  {
   "cell_type": "code",
   "execution_count": 1,
   "id": "07af6d48",
   "metadata": {},
   "outputs": [],
   "source": [
    "import pandas as pd\n",
    "import numpy as np\n",
    "from utils import columns, clean_df, numerics\n",
    "from sklearn.linear_model import LinearRegression"
   ]
  },
  {
   "cell_type": "markdown",
   "id": "4ec1d4ec",
   "metadata": {},
   "source": [
    "\n",
    "### TODOS\n",
    "0. Cleaning (/)\n",
    "1. EDA\n",
    "2. Simple Regression Model (+ Tuning, Evaluation) (in progress)\n",
    "3. PyCaret magic\n",
    "4. Production Scenario\n",
    "\n",
    "### Sources\n",
    "- https://scikit-learn.org/stable/auto_examples/model_selection/plot_cv_predict.html#sphx-glr-auto-examples-model-selection-plot-cv-predict-py\n",
    "- https://boostedml.com/2019/06/linear-regression-in-r-interpreting-summarylm.html\n",
    "- https://stackoverflow.com/questions/27928275/find-p-value-significance-in-scikit-learn-linearregression"
   ]
  },
  {
   "cell_type": "code",
   "execution_count": 2,
   "id": "0c169158",
   "metadata": {},
   "outputs": [],
   "source": [
    "%config Completer.use_jedi = False"
   ]
  },
  {
   "cell_type": "code",
   "execution_count": 3,
   "id": "5a2e98ca",
   "metadata": {},
   "outputs": [],
   "source": [
    "df = pd.read_csv(\"data/imports-85.data\", header=None, names=columns)"
   ]
  },
  {
   "cell_type": "code",
   "execution_count": 4,
   "id": "f3645bcd",
   "metadata": {},
   "outputs": [
    {
     "name": "stdout",
     "output_type": "stream",
     "text": [
      "164 rows (80.0%) left after preprocessing\n"
     ]
    }
   ],
   "source": [
    "df = clean_df(df)"
   ]
  },
  {
   "cell_type": "code",
   "execution_count": 5,
   "id": "3639915c",
   "metadata": {
    "scrolled": true
   },
   "outputs": [
    {
     "data": {
      "text/html": [
       "<div>\n",
       "<style scoped>\n",
       "    .dataframe tbody tr th:only-of-type {\n",
       "        vertical-align: middle;\n",
       "    }\n",
       "\n",
       "    .dataframe tbody tr th {\n",
       "        vertical-align: top;\n",
       "    }\n",
       "\n",
       "    .dataframe thead th {\n",
       "        text-align: right;\n",
       "    }\n",
       "</style>\n",
       "<table border=\"1\" class=\"dataframe\">\n",
       "  <thead>\n",
       "    <tr style=\"text-align: right;\">\n",
       "      <th></th>\n",
       "      <th>normalized-losses</th>\n",
       "      <th>make</th>\n",
       "      <th>fuel-type</th>\n",
       "      <th>aspiration</th>\n",
       "      <th>num-of-doors</th>\n",
       "      <th>body-style</th>\n",
       "      <th>drive-wheels</th>\n",
       "      <th>engine-location</th>\n",
       "      <th>wheel-base</th>\n",
       "      <th>length</th>\n",
       "      <th>...</th>\n",
       "      <th>engine-size</th>\n",
       "      <th>fuel-system</th>\n",
       "      <th>bore</th>\n",
       "      <th>stroke</th>\n",
       "      <th>compression-ratio</th>\n",
       "      <th>horsepower</th>\n",
       "      <th>peak-rpm</th>\n",
       "      <th>city-mpg</th>\n",
       "      <th>highway-mpg</th>\n",
       "      <th>price</th>\n",
       "    </tr>\n",
       "  </thead>\n",
       "  <tbody>\n",
       "    <tr>\n",
       "      <th>3</th>\n",
       "      <td>164.0</td>\n",
       "      <td>audi</td>\n",
       "      <td>gas</td>\n",
       "      <td>std</td>\n",
       "      <td>four</td>\n",
       "      <td>sedan</td>\n",
       "      <td>fwd</td>\n",
       "      <td>front</td>\n",
       "      <td>99.8</td>\n",
       "      <td>176.6</td>\n",
       "      <td>...</td>\n",
       "      <td>109</td>\n",
       "      <td>mpfi</td>\n",
       "      <td>3.19</td>\n",
       "      <td>3.4</td>\n",
       "      <td>10.0</td>\n",
       "      <td>102.0</td>\n",
       "      <td>5500.0</td>\n",
       "      <td>24</td>\n",
       "      <td>30</td>\n",
       "      <td>13950.0</td>\n",
       "    </tr>\n",
       "    <tr>\n",
       "      <th>4</th>\n",
       "      <td>164.0</td>\n",
       "      <td>audi</td>\n",
       "      <td>gas</td>\n",
       "      <td>std</td>\n",
       "      <td>four</td>\n",
       "      <td>sedan</td>\n",
       "      <td>4wd</td>\n",
       "      <td>front</td>\n",
       "      <td>99.4</td>\n",
       "      <td>176.6</td>\n",
       "      <td>...</td>\n",
       "      <td>136</td>\n",
       "      <td>mpfi</td>\n",
       "      <td>3.19</td>\n",
       "      <td>3.4</td>\n",
       "      <td>8.0</td>\n",
       "      <td>115.0</td>\n",
       "      <td>5500.0</td>\n",
       "      <td>18</td>\n",
       "      <td>22</td>\n",
       "      <td>17450.0</td>\n",
       "    </tr>\n",
       "    <tr>\n",
       "      <th>6</th>\n",
       "      <td>158.0</td>\n",
       "      <td>audi</td>\n",
       "      <td>gas</td>\n",
       "      <td>std</td>\n",
       "      <td>four</td>\n",
       "      <td>sedan</td>\n",
       "      <td>fwd</td>\n",
       "      <td>front</td>\n",
       "      <td>105.8</td>\n",
       "      <td>192.7</td>\n",
       "      <td>...</td>\n",
       "      <td>136</td>\n",
       "      <td>mpfi</td>\n",
       "      <td>3.19</td>\n",
       "      <td>3.4</td>\n",
       "      <td>8.5</td>\n",
       "      <td>110.0</td>\n",
       "      <td>5500.0</td>\n",
       "      <td>19</td>\n",
       "      <td>25</td>\n",
       "      <td>17710.0</td>\n",
       "    </tr>\n",
       "  </tbody>\n",
       "</table>\n",
       "<p>3 rows × 25 columns</p>\n",
       "</div>"
      ],
      "text/plain": [
       "   normalized-losses  make fuel-type aspiration num-of-doors body-style  \\\n",
       "3              164.0  audi       gas        std         four      sedan   \n",
       "4              164.0  audi       gas        std         four      sedan   \n",
       "6              158.0  audi       gas        std         four      sedan   \n",
       "\n",
       "  drive-wheels engine-location  wheel-base  length  ...  engine-size  \\\n",
       "3          fwd           front        99.8   176.6  ...          109   \n",
       "4          4wd           front        99.4   176.6  ...          136   \n",
       "6          fwd           front       105.8   192.7  ...          136   \n",
       "\n",
       "   fuel-system  bore stroke compression-ratio  horsepower peak-rpm  city-mpg  \\\n",
       "3         mpfi  3.19    3.4              10.0       102.0   5500.0        24   \n",
       "4         mpfi  3.19    3.4               8.0       115.0   5500.0        18   \n",
       "6         mpfi  3.19    3.4               8.5       110.0   5500.0        19   \n",
       "\n",
       "   highway-mpg    price  \n",
       "3           30  13950.0  \n",
       "4           22  17450.0  \n",
       "6           25  17710.0  \n",
       "\n",
       "[3 rows x 25 columns]"
      ]
     },
     "execution_count": 5,
     "metadata": {},
     "output_type": "execute_result"
    }
   ],
   "source": [
    "df.head(3)"
   ]
  },
  {
   "cell_type": "code",
   "execution_count": null,
   "id": "e60fb16f",
   "metadata": {},
   "outputs": [],
   "source": [
    "# What are \"normalized-losses\"?"
   ]
  },
  {
   "cell_type": "code",
   "execution_count": 12,
   "id": "6710671b",
   "metadata": {},
   "outputs": [],
   "source": [
    "# 2. Simple Regression Model (base model)\n",
    "# In our simple approach we'll consider continuous variables only\n",
    "# NOTE: This is a non-production setup (no train & test sets here).\n",
    "# So the focus is analysis and not prediction.\n",
    "\n",
    "cols = list(df.columns)\n",
    "target, num_features = cols[0], [c for c in cols[1:] if c in numerics]\n",
    "\n",
    "X,y = df[num_features], df[target] "
   ]
  },
  {
   "cell_type": "code",
   "execution_count": 9,
   "id": "2267c739",
   "metadata": {},
   "outputs": [],
   "source": [
    "model = LinearRegression().fit(X, y)"
   ]
  },
  {
   "cell_type": "code",
   "execution_count": 17,
   "id": "3c1dfc42",
   "metadata": {},
   "outputs": [
    {
     "name": "stdout",
     "output_type": "stream",
     "text": [
      "0.3697764732366786\n",
      "('wheel-base', -0.2681072792759476)\n",
      "('length', 0.3574335043810261)\n",
      "('width', -1.9103386300293472)\n",
      "('height', -7.235339568304372)\n",
      "('curb-weight', 0.013160031158971791)\n",
      "('engine-size', 0.21401380958256397)\n",
      "('bore', -27.084350738487732)\n",
      "('stroke', -12.818263688215403)\n",
      "('compression-ratio', 0.4966258409416455)\n",
      "('horsepower', -0.09918369982871414)\n",
      "('peak-rpm', 0.013052569833492301)\n",
      "('city-mpg', -4.756325654486678)\n",
      "('highway-mpg', 3.8515258534250303)\n",
      "('price', 0.0010637038113990988)\n",
      "601.9170740900355\n"
     ]
    }
   ],
   "source": [
    "print(\"R squared: \",model.score(X, y),'\\n')\n",
    "\n",
    "print(\"Coeffients: \",*zip(num_features, model.coef_), sep='\\n')\n",
    "\n",
    "print(\"Intercept: \",model.intercept_)"
   ]
  },
  {
   "cell_type": "code",
   "execution_count": 8,
   "id": "fe63cf74",
   "metadata": {},
   "outputs": [
    {
     "data": {
      "text/plain": [
       "array([0, 0, 0, 0, 0, 0, 0, 0, 1, 1, 1, 1, 1, 0, 1, 1, 1, 0, 1, 2, 3, 3,\n",
       "       3, 3, 3, 3, 3, 3, 3, 3, 3, 0, 1, 0, 1, 1, 1, 1, 1, 4, 4, 4, 0, 1,\n",
       "       1, 1, 1, 1, 0, 5, 5, 5, 5, 0, 1, 1, 1, 6, 6, 1, 1, 1, 6, 6, 1, 5,\n",
       "       1, 1, 1, 1, 1, 1, 1, 1, 1, 1, 0, 0, 0, 0, 0, 0, 0, 5, 0, 5, 0, 5,\n",
       "       0, 1, 6, 1, 1, 1, 1, 0, 0, 0, 0, 0, 0, 0, 1, 1, 1, 1, 1, 0, 1, 0,\n",
       "       1, 0, 1, 0, 1, 1, 1, 1, 1, 1, 1, 1, 5, 5, 1, 1, 1, 1, 1, 0, 0, 0,\n",
       "       0, 0, 0, 0, 0, 0, 5, 0, 0, 0, 0, 0, 0, 5, 0, 5, 0, 0, 5, 0, 0, 0,\n",
       "       0, 0, 0, 0, 0, 0, 0, 0, 5, 0])"
      ]
     },
     "execution_count": 8,
     "metadata": {},
     "output_type": "execute_result"
    }
   ],
   "source": [
    "#df[\"fuel-system\"].astype('category').cat.codes[:10]\n",
    "pd.factorize(df[\"fuel-system\"])[0]"
   ]
  }
 ],
 "metadata": {
  "kernelspec": {
   "display_name": "Python 3",
   "language": "python",
   "name": "python3"
  },
  "language_info": {
   "codemirror_mode": {
    "name": "ipython",
    "version": 3
   },
   "file_extension": ".py",
   "mimetype": "text/x-python",
   "name": "python",
   "nbconvert_exporter": "python",
   "pygments_lexer": "ipython3",
   "version": "3.7.10"
  }
 },
 "nbformat": 4,
 "nbformat_minor": 5
}
