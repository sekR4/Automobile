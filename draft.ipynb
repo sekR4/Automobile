{
 "cells": [
  {
   "cell_type": "code",
   "execution_count": 1,
   "id": "07af6d48",
   "metadata": {},
   "outputs": [
    {
     "data": {
      "text/plain": [
       "60"
      ]
     },
     "execution_count": 1,
     "metadata": {},
     "output_type": "execute_result"
    }
   ],
   "source": [
    "import pandas as pd\n",
    "import numpy as np\n",
    "from utils import columns, clean_df, numerics, summary\n",
    "from sklearn.linear_model import LinearRegression"
   ]
  },
  {
   "cell_type": "markdown",
   "id": "4ec1d4ec",
   "metadata": {},
   "source": [
    "### TODOS\n",
    "\n",
    "1. Def \"normalized-losses\" + brief dataset description\n",
    "2. EDA\n",
    "3. Simple Regression Model (+Evaluation) (in progress)\n",
    "4. PyCaret magic\n",
    "5. Production Scenario\n",
    "\n",
    "### Sources\n",
    "- https://scikit-learn.org/stable/auto_examples/model_selection/plot_cv_predict.html#sphx-glr-auto-examples-model-selection-plot-cv-predict-py\n",
    "- https://boostedml.com/2019/06/linear-regression-in-r-interpreting-summarylm.html\n",
    "- https://stackoverflow.com/questions/27928275/find-p-value-significance-in-scikit-learn-linearregression\n",
    "- https://medium.com/analytics-vidhya/implementing-linear-regression-using-sklearn-76264a3c073c"
   ]
  },
  {
   "cell_type": "code",
   "execution_count": 2,
   "id": "0c169158",
   "metadata": {},
   "outputs": [],
   "source": [
    "%config Completer.use_jedi = False"
   ]
  },
  {
   "cell_type": "code",
   "execution_count": 3,
   "id": "5a2e98ca",
   "metadata": {},
   "outputs": [],
   "source": [
    "df = pd.read_csv(\"data/imports-85.data\", header=None, names=columns)\n",
    "df = clean_df(df)\n",
    "df.head(3)"
   ]
  },
  {
   "cell_type": "code",
   "execution_count": 6,
   "id": "e60fb16f",
   "metadata": {},
   "outputs": [],
   "source": [
    "# What are \"normalized-losses\"?"
   ]
  },
  {
   "cell_type": "code",
   "execution_count": 7,
   "id": "6710671b",
   "metadata": {},
   "outputs": [],
   "source": [
    "# 2. Simple Regression Model (base model)\n",
    "# In our simple approach we'll consider continuous variables only\n",
    "# NOTE: This is a non-production setup (no train & test sets here).\n",
    "# So the focus is analysis and not prediction.\n",
    "\n",
    "cols = list(df.columns)\n",
    "target, num_features = cols[0], [c for c in cols[1:] if c in numerics]\n",
    "\n",
    "X,y = df[num_features], np.log(df[target]) \n",
    "#X,y = pd.get_dummies(df[cols[1:]]),np.log(df[target])\n"
   ]
  },
  {
   "cell_type": "code",
   "execution_count": 8,
   "id": "209f7827",
   "metadata": {
    "scrolled": true
   },
   "outputs": [],
   "source": [
    "#pd.get_dummies(df[cols[1:]])"
   ]
  },
  {
   "cell_type": "code",
   "execution_count": 9,
   "id": "2267c739",
   "metadata": {},
   "outputs": [],
   "source": [
    "model = LinearRegression().fit(X, y)"
   ]
  },
  {
   "cell_type": "code",
   "execution_count": 10,
   "id": "8c77d990",
   "metadata": {
    "scrolled": false
   },
   "outputs": [
    {
     "name": "stdout",
     "output_type": "stream",
     "text": [
      "Call:\n",
      "lm(formula = normalized-losses ~ wheel-base + length + width + height + curb-weight + engine-size + bore + stroke + compression-ratio + horsepower + peak-rpm + city-mpg + highway-mpg + price) \n",
      "\n",
      "                       Coefficients  Std. Error  t value  Pr(>|t|)\n",
      "0         (Intercept)        8.1630       1.508    5.413     0.000\n",
      "1          wheel-base       -0.0054       0.009   -0.604     0.547\n",
      "2              length        0.0039       0.005    0.851     0.396\n",
      "3               width       -0.0105       0.024   -0.445     0.657\n",
      "4              height       -0.0585       0.012   -5.012     0.000\n",
      "5         curb-weight        0.0001       0.000    0.787     0.432\n",
      "6         engine-size        0.0018       0.002    1.113     0.267\n",
      "7                bore       -0.1986       0.105   -1.889     0.061\n",
      "8              stroke       -0.0909       0.076   -1.190     0.236\n",
      "9   compression-ratio        0.0036       0.007    0.486     0.628\n",
      "10         horsepower       -0.0014       0.002   -0.854     0.394\n",
      "11           peak-rpm        0.0001       0.000    2.401     0.017\n",
      "12           city-mpg       -0.0407       0.015   -2.790     0.006\n",
      "13        highway-mpg        0.0348       0.013    2.583     0.011\n",
      "14              price        0.0000       0.000    1.020     0.309 \n",
      "\n",
      "R squared:  0.3839 \n",
      "\n"
     ]
    }
   ],
   "source": [
    "summary(model, X, y)"
   ]
  },
  {
   "cell_type": "code",
   "execution_count": 11,
   "id": "0b6b229a",
   "metadata": {},
   "outputs": [
    {
     "data": {
      "text/plain": [
       "<AxesSubplot:ylabel='Frequency'>"
      ]
     },
     "execution_count": 11,
     "metadata": {},
     "output_type": "execute_result"
    },
    {
     "data": {
      "image/png": "[encoded data removed]",
      "text/plain": [
       "<Figure size 432x288 with 1 Axes>"
      ]
     },
     "metadata": {
      "needs_background": "light"
     },
     "output_type": "display_data"
    }
   ],
   "source": [
    "pd.Series(np.log(y)).plot.hist()"
   ]
  },
  {
   "cell_type": "code",
   "execution_count": 12,
   "id": "758c8e55",
   "metadata": {},
   "outputs": [
    {
     "data": {
      "text/plain": [
       "<AxesSubplot:ylabel='Frequency'>"
      ]
     },
     "execution_count": 12,
     "metadata": {},
     "output_type": "execute_result"
    },
    {
     "data": {
      "image/png": "[encoded data removed]",
      "text/plain": [
       "<Figure size 432x288 with 1 Axes>"
      ]
     },
     "metadata": {
      "needs_background": "light"
     },
     "output_type": "display_data"
    }
   ],
   "source": [
    "y.plot.hist()"
   ]
  },
  {
   "cell_type": "code",
   "execution_count": 13,
   "id": "3730e486",
   "metadata": {},
   "outputs": [
    {
     "data": {
      "text/plain": [
       "sklearn.linear_model._base.LinearRegression"
      ]
     },
     "execution_count": 13,
     "metadata": {},
     "output_type": "execute_result"
    }
   ],
   "source": [
    "type(model)"
   ]
  }
 ],
 "metadata": {
  "kernelspec": {
   "display_name": "Python 3",
   "language": "python",
   "name": "python3"
  },
  "language_info": {
   "codemirror_mode": {
    "name": "ipython",
    "version": 3
   },
   "file_extension": ".py",
   "mimetype": "text/x-python",
   "name": "python",
   "nbconvert_exporter": "python",
   "pygments_lexer": "ipython3",
   "version": "3.7.10"
  }
 },
 "nbformat": 4,
 "nbformat_minor": 5
}
